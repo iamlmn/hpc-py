{
 "cells": [
  {
   "cell_type": "markdown",
   "metadata": {},
   "source": [
    "# High Performance Computing, distributed, concurrent and parallel programming in Python"
   ]
  },
  {
   "cell_type": "markdown",
   "metadata": {},
   "source": [
    "### Takeaways\n",
    "1. Use lambda expression,generators and iterators to speed up your code.\n",
    "2. MultiProcessing & MultiThreading in Python.\n",
    "3. Optimize performance and efficiency by leveraging Nummpy,Sccipy & Cython for numerical computations. \n",
    "4. Working on loading larger than memory data using Dask in a distributed and parallel setting.\n",
    "5. Leverage the power of Numba to make your python program run faster.\n",
    "6. Build reactive applications using python."
   ]
  },
  {
   "cell_type": "markdown",
   "metadata": {},
   "source": [
    "## 1.a. Lambda Expressions\n"
   ]
  },
  {
   "cell_type": "markdown",
   "metadata": {},
   "source": [
    "An alternative way to write functions. If the lambda functions are not assigned to any variable then it is an anonymous function(generally meant for one time use only).\n",
    "Can be used along with filter(),reduce() & map."
   ]
  },
  {
   "cell_type": "code",
   "execution_count": 10,
   "metadata": {},
   "outputs": [
    {
     "data": {
      "text/plain": [
       "25"
      ]
     },
     "execution_count": 10,
     "metadata": {},
     "output_type": "execute_result"
    }
   ],
   "source": [
    "# sqrt of a number\n",
    "my_sqr_func = lambda x: x*x\n",
    "my_sqr_func(5)"
   ]
  },
  {
   "cell_type": "code",
   "execution_count": 11,
   "metadata": {},
   "outputs": [
    {
     "data": {
      "text/plain": [
       "7"
      ]
     },
     "execution_count": 11,
     "metadata": {},
     "output_type": "execute_result"
    }
   ],
   "source": [
    "# adder\n",
    "my_adder = lambda x,y : x+y\n",
    "my_adder(3,4)"
   ]
  },
  {
   "cell_type": "markdown",
   "metadata": {},
   "source": [
    "###### Using map"
   ]
  },
  {
   "cell_type": "code",
   "execution_count": 12,
   "metadata": {},
   "outputs": [
    {
     "data": {
      "text/plain": [
       "[1, 4, 9, 16]"
      ]
     },
     "execution_count": 12,
     "metadata": {},
     "output_type": "execute_result"
    }
   ],
   "source": [
    "my_list = [1, 2, 3, 4]\n",
    "my_sqr_list = map(my_sqr_func, my_list)\n",
    "list(my_sqr_list)"
   ]
  },
  {
   "cell_type": "markdown",
   "metadata": {},
   "source": [
    "##### Using filter"
   ]
  },
  {
   "cell_type": "code",
   "execution_count": 13,
   "metadata": {},
   "outputs": [
    {
     "data": {
      "text/plain": [
       "['Damn', 'Yolo']"
      ]
     },
     "execution_count": 13,
     "metadata": {},
     "output_type": "execute_result"
    }
   ],
   "source": [
    "# filters list of elements with even lenght of char\n",
    "my_str_list = ['hello', 'bye','Damn', 'Yolo']\n",
    "my_filtered_list = list(filter(lambda x : len(x)%2 == 0,my_str_list))\n",
    "my_filtered_list"
   ]
  },
  {
   "cell_type": "markdown",
   "metadata": {},
   "source": [
    "##### Sort"
   ]
  },
  {
   "cell_type": "code",
   "execution_count": 14,
   "metadata": {},
   "outputs": [
    {
     "data": {
      "text/plain": [
       "[{'Name': 'Himavari', 'Age': 6},\n",
       " {'Name': 'lmn', 'Age': 25},\n",
       " {'Name': 'shinchan', 'Age': 12}]"
      ]
     },
     "execution_count": 14,
     "metadata": {},
     "output_type": "execute_result"
    }
   ],
   "source": [
    "my_dict_list = [{'Name':'lmn', 'Age':25}, {'Name':'shinchan','Age':12}, {'Name':'Himavari','Age':6}]\n",
    "# Sort by age\n",
    "sorted(my_dict_list, key = lambda x : x['Age'])\n",
    "# sort by nam\n",
    "sorted(my_dict_list, key = lambda x : x['Name'])"
   ]
  },
  {
   "cell_type": "markdown",
   "metadata": {},
   "source": [
    "##### Nesting Lambda Expressions"
   ]
  },
  {
   "cell_type": "code",
   "execution_count": 15,
   "metadata": {},
   "outputs": [
    {
     "data": {
      "text/plain": [
       "'Hello World'"
      ]
     },
     "execution_count": 15,
     "metadata": {},
     "output_type": "execute_result"
    }
   ],
   "source": [
    "add_prefix = lambda suffix : (lambda my_str : my_str + ' ' + suffix)\n",
    "add_world = add_prefix(\"World\")\n",
    "add_world(\"Hello\")"
   ]
  },
  {
   "cell_type": "markdown",
   "metadata": {},
   "source": [
    "## 1.b Comprehensions for speed ups\n",
    "Comprehensions is a way of creating list or dictionaries based on existing iterables. "
   ]
  },
  {
   "cell_type": "code",
   "execution_count": 16,
   "metadata": {},
   "outputs": [
    {
     "data": {
      "text/plain": [
       "{1: 100, 2: 200, 3: 300, 4: 400, 5: 500}"
      ]
     },
     "execution_count": 16,
     "metadata": {},
     "output_type": "execute_result"
    }
   ],
   "source": [
    "my_list = [1, 2, 3, 4, 5]\n",
    "# List comprehension\n",
    "[elem*100 for elem in my_list]\n",
    "# Dict comprehension\n",
    "{elem : elem*100 for elem in my_list}"
   ]
  },
  {
   "cell_type": "markdown",
   "metadata": {},
   "source": [
    "I understand your confusion, you obviously know this? But I just wanted to highlight its importance as we often forget it while working with lists."
   ]
  },
  {
   "cell_type": "code",
   "execution_count": 17,
   "metadata": {},
   "outputs": [],
   "source": [
    "import time"
   ]
  },
  {
   "cell_type": "code",
   "execution_count": 18,
   "metadata": {},
   "outputs": [
    {
     "name": "stdout",
     "output_type": "stream",
     "text": [
      "Time taken is 7.174314022064209\n"
     ]
    }
   ],
   "source": [
    "start = time.time()\n",
    "new_list = []\n",
    "for x in range(0,9000000):\n",
    "    new_list.append(x**2)\n",
    "end = time.time()\n",
    "print(\"Time taken is {}\".format(end-start))"
   ]
  },
  {
   "cell_type": "code",
   "execution_count": 19,
   "metadata": {},
   "outputs": [
    {
     "name": "stdout",
     "output_type": "stream",
     "text": [
      "Time taken is 5.369340896606445\n"
     ]
    }
   ],
   "source": [
    "start = time.time()\n",
    "new_list = []\n",
    "new_list = [elem**2 for elem in range(0,9000000)]\n",
    "end = time.time()\n",
    "print(\"Time taken is {}\".format(end-start))"
   ]
  },
  {
   "cell_type": "markdown",
   "metadata": {},
   "source": [
    "###### Amazed? I was\n",
    "The reason why its fast is because they do not require individual append calls and append is done explicitly. For large lists List comprehensions are usually fast.  "
   ]
  },
  {
   "cell_type": "markdown",
   "metadata": {},
   "source": [
    "## 1.c Generators & Iterators"
   ]
  },
  {
   "cell_type": "markdown",
   "metadata": {},
   "source": [
    "##### What are Iterators?\n",
    "1. Simply a type of object which allows us to go over each of it's elements.\n",
    "2. Each iterator has an iterator protocol implemented inside it, whicg includes __iter__ & __next__ methods.\n",
    "3. They use lazy evaluation to save memory and do not evaluate all values in one go."
   ]
  },
  {
   "cell_type": "markdown",
   "metadata": {},
   "source": [
    "Create your own multiplier iterator with the range you want"
   ]
  },
  {
   "cell_type": "code",
   "execution_count": 20,
   "metadata": {},
   "outputs": [],
   "source": [
    "class myIter:\n",
    "    def __init__(self, start, final_n, multiplier):\n",
    "        self.start = start\n",
    "        self.final_n = final_n\n",
    "        self.multiplier = multiplier\n",
    "        \n",
    "    def __iter__(self):\n",
    "        self.curr_n = self.start\n",
    "        return self\n",
    "    \n",
    "    def __next__(self):\n",
    "        if self.curr_n <= self.final_n:\n",
    "            multiple = self.curr_n\n",
    "            self.curr_n += self.multiplier\n",
    "            return multiple\n",
    "        else:\n",
    "            raise StopIteration"
   ]
  },
  {
   "cell_type": "code",
   "execution_count": 21,
   "metadata": {},
   "outputs": [
    {
     "data": {
      "text/plain": [
       "1"
      ]
     },
     "execution_count": 21,
     "metadata": {},
     "output_type": "execute_result"
    }
   ],
   "source": [
    "my_iter_init = myIter(1,100,5)\n",
    "iter(my_iter_init)\n",
    "next(my_iter_init)"
   ]
  },
  {
   "cell_type": "code",
   "execution_count": 22,
   "metadata": {},
   "outputs": [
    {
     "ename": "KeyboardInterrupt",
     "evalue": "",
     "output_type": "error",
     "traceback": [
      "\u001b[0;31m---------------------------------------------------------------------------\u001b[0m",
      "\u001b[0;31mKeyboardInterrupt\u001b[0m                         Traceback (most recent call last)",
      "\u001b[0;32m<ipython-input-22-0fe858eaaf61>\u001b[0m in \u001b[0;36m<module>\u001b[0;34m\u001b[0m\n\u001b[0;32m----> 1\u001b[0;31m \u001b[0;34m[\u001b[0m\u001b[0mx\u001b[0m \u001b[0;32mfor\u001b[0m \u001b[0mx\u001b[0m \u001b[0;32min\u001b[0m \u001b[0mrange\u001b[0m\u001b[0;34m(\u001b[0m\u001b[0;36m1\u001b[0m\u001b[0;34m,\u001b[0m\u001b[0;36m200000000000000000000000000000\u001b[0m\u001b[0;34m,\u001b[0m\u001b[0;36m5\u001b[0m\u001b[0;34m)\u001b[0m\u001b[0;34m]\u001b[0m\u001b[0;34m\u001b[0m\u001b[0;34m\u001b[0m\u001b[0m\n\u001b[0m",
      "\u001b[0;32m<ipython-input-22-0fe858eaaf61>\u001b[0m in \u001b[0;36m<listcomp>\u001b[0;34m(.0)\u001b[0m\n\u001b[0;32m----> 1\u001b[0;31m \u001b[0;34m[\u001b[0m\u001b[0mx\u001b[0m \u001b[0;32mfor\u001b[0m \u001b[0mx\u001b[0m \u001b[0;32min\u001b[0m \u001b[0mrange\u001b[0m\u001b[0;34m(\u001b[0m\u001b[0;36m1\u001b[0m\u001b[0;34m,\u001b[0m\u001b[0;36m200000000000000000000000000000\u001b[0m\u001b[0;34m,\u001b[0m\u001b[0;36m5\u001b[0m\u001b[0;34m)\u001b[0m\u001b[0;34m]\u001b[0m\u001b[0;34m\u001b[0m\u001b[0;34m\u001b[0m\u001b[0m\n\u001b[0m",
      "\u001b[0;31mKeyboardInterrupt\u001b[0m: "
     ]
    }
   ],
   "source": [
    "[x for x in range(1,200000000000000000000000000000,5)]\n"
   ]
  },
  {
   "cell_type": "markdown",
   "metadata": {},
   "source": [
    "As you observed the code froze beccuase but the iterator we wrote will not"
   ]
  },
  {
   "cell_type": "code",
   "execution_count": 23,
   "metadata": {},
   "outputs": [
    {
     "data": {
      "text/plain": [
       "1"
      ]
     },
     "execution_count": 23,
     "metadata": {},
     "output_type": "execute_result"
    }
   ],
   "source": [
    "my_iter_init = myIter(1,200000000000000000000000000000,5)\n",
    "iter(my_iter_init)\n",
    "next(my_iter_init)"
   ]
  },
  {
   "cell_type": "code",
   "execution_count": 24,
   "metadata": {},
   "outputs": [
    {
     "data": {
      "text/plain": [
       "16"
      ]
     },
     "execution_count": 24,
     "metadata": {},
     "output_type": "execute_result"
    }
   ],
   "source": [
    "next(my_iter_init)\n",
    "next(my_iter_init)\n",
    "next(my_iter_init)"
   ]
  },
  {
   "cell_type": "markdown",
   "metadata": {},
   "source": [
    "The reason for that is it does not try to create that list completely at one go. It uses lazy evaluation. Hence it will be faster and won't run out of memory while working on very large lists"
   ]
  },
  {
   "cell_type": "markdown",
   "metadata": {},
   "source": [
    "## Generators\n",
    "Generators are functions which return one value at a time.\n",
    "They are just like iterators but with using Yield keyword\n",
    "The Yield keyword is used to resume/halt the processing of generators.\n",
    "If a functions contains Yield keyword then its considered to be a generators"
   ]
  },
  {
   "cell_type": "code",
   "execution_count": 25,
   "metadata": {},
   "outputs": [],
   "source": [
    "# Example"
   ]
  },
  {
   "cell_type": "code",
   "execution_count": 26,
   "metadata": {},
   "outputs": [
    {
     "name": "stdout",
     "output_type": "stream",
     "text": [
      "Processing Halted1\n",
      "5 6\n",
      "Processing Resumed2\n",
      "Processing Halted2\n",
      "11 6\n",
      "Processing Resumed3\n",
      "Processing Halted3\n",
      "12 16\n"
     ]
    }
   ],
   "source": [
    "def my_gen():\n",
    "    x = 5\n",
    "    y = 6\n",
    "    print(\"Processing Halted1\")\n",
    "    yield x,y\n",
    "    print(\"Processing Resumed2\")\n",
    "    x += y\n",
    "    print(\"Processing Halted2\")\n",
    "    yield x,y\n",
    "    print(\"Processing Resumed3\")\n",
    "    x += 1\n",
    "    y += 10\n",
    "    print(\"Processing Halted3\")\n",
    "    yield x,y\n",
    "    \n",
    "# Call the generator function\n",
    "\n",
    "for x,y in my_gen():\n",
    "    print(x,y)"
   ]
  },
  {
   "cell_type": "markdown",
   "metadata": {},
   "source": [
    "###### Similar to iterators , or can be called as an alternative to Iterators except they use Yield and not the iterator protocal."
   ]
  },
  {
   "cell_type": "markdown",
   "metadata": {},
   "source": [
    "### Decorators \n",
    "for time analysis"
   ]
  },
  {
   "cell_type": "markdown",
   "metadata": {},
   "source": [
    "- Enhances the functionality of an existing function by taking the functions as input and returning a new function\n",
    "- Can be applied on any callable objects like functions, methods & classes."
   ]
  },
  {
   "cell_type": "code",
   "execution_count": 27,
   "metadata": {},
   "outputs": [],
   "source": [
    "## Examples"
   ]
  },
  {
   "cell_type": "code",
   "execution_count": 28,
   "metadata": {},
   "outputs": [],
   "source": [
    "def my_simple_function():\n",
    "    print(\"I am a normal function\")"
   ]
  },
  {
   "cell_type": "code",
   "execution_count": 29,
   "metadata": {},
   "outputs": [
    {
     "name": "stdout",
     "output_type": "stream",
     "text": [
      "I am a normal function\n"
     ]
    }
   ],
   "source": [
    "my_simple_function()"
   ]
  },
  {
   "cell_type": "code",
   "execution_count": 30,
   "metadata": {},
   "outputs": [],
   "source": [
    "def my_decorator(my_fn):\n",
    "    def wrapped_function():\n",
    "        print(\"This is the start of decorated function!\")\n",
    "        my_fn()\n",
    "        print(\"This is the end of decorated function!\")\n",
    "    return wrapped_function"
   ]
  },
  {
   "cell_type": "code",
   "execution_count": 31,
   "metadata": {},
   "outputs": [],
   "source": [
    "yo_fn = my_decorator(my_simple_function)"
   ]
  },
  {
   "cell_type": "code",
   "execution_count": 32,
   "metadata": {},
   "outputs": [
    {
     "name": "stdout",
     "output_type": "stream",
     "text": [
      "This is the start of decorated function!\n",
      "I am a normal function\n",
      "This is the end of decorated function!\n"
     ]
    }
   ],
   "source": [
    "yo_fn()"
   ]
  },
  {
   "cell_type": "markdown",
   "metadata": {},
   "source": [
    "# Using @notations"
   ]
  },
  {
   "cell_type": "code",
   "execution_count": 33,
   "metadata": {},
   "outputs": [],
   "source": [
    "@my_decorator\n",
    "def my_new_function():\n",
    "    print(\"I do nothing\")"
   ]
  },
  {
   "cell_type": "code",
   "execution_count": 34,
   "metadata": {},
   "outputs": [
    {
     "name": "stdout",
     "output_type": "stream",
     "text": [
      "This is the start of decorated function!\n",
      "I do nothing\n",
      "This is the end of decorated function!\n"
     ]
    }
   ],
   "source": [
    "my_new_function()"
   ]
  },
  {
   "cell_type": "markdown",
   "metadata": {},
   "source": [
    "#### Using kwargs"
   ]
  },
  {
   "cell_type": "code",
   "execution_count": 35,
   "metadata": {},
   "outputs": [],
   "source": [
    "def my_better_decorator(my_fn):\n",
    "    def modified_function(*args, **kwargs):\n",
    "        print(\"This is the start of decorated function!\")\n",
    "        my_fn(*args, **kwargs)\n",
    "        print(\"This is the end of decorated function!\")\n",
    "    return modified_function\n"
   ]
  },
  {
   "cell_type": "code",
   "execution_count": 36,
   "metadata": {},
   "outputs": [],
   "source": [
    "@my_better_decorator\n",
    "def my_adder(x,y):\n",
    "    print(\"Sum of x,y is {}\".format(x + y))"
   ]
  },
  {
   "cell_type": "code",
   "execution_count": 37,
   "metadata": {},
   "outputs": [
    {
     "name": "stdout",
     "output_type": "stream",
     "text": [
      "This is the start of decorated function!\n",
      "Sum of x,y is 13\n",
      "This is the end of decorated function!\n"
     ]
    }
   ],
   "source": [
    "my_adder(6,7)"
   ]
  },
  {
   "cell_type": "markdown",
   "metadata": {},
   "source": [
    "## Using decorator for Time analysis"
   ]
  },
  {
   "cell_type": "code",
   "execution_count": 38,
   "metadata": {},
   "outputs": [],
   "source": [
    "import time\n",
    "def time_decor(my_fun):\n",
    "    def modified_func(*args, **kwargs):\n",
    "        start = time.time()\n",
    "        my_fun(*args, **kwargs)\n",
    "        end = time.time()\n",
    "        print(\"Time taken in seconds {}\".format(end - start))\n",
    "    return modified_func"
   ]
  },
  {
   "cell_type": "code",
   "execution_count": 39,
   "metadata": {},
   "outputs": [],
   "source": [
    "@time_decor\n",
    "def create_big_list(size):\n",
    "    new_list = []\n",
    "    for x in range(0,size):\n",
    "        new_list.append(x)\n",
    "    return new_list "
   ]
  },
  {
   "cell_type": "code",
   "execution_count": 40,
   "metadata": {},
   "outputs": [
    {
     "name": "stdout",
     "output_type": "stream",
     "text": [
      "Time taken in seconds 19.43321132659912\n"
     ]
    }
   ],
   "source": [
    "create_big_list(100000000)"
   ]
  },
  {
   "cell_type": "code",
   "execution_count": 41,
   "metadata": {},
   "outputs": [],
   "source": [
    "@time_decor\n",
    "def create_big_list_faster(size):\n",
    "    return [x for x in range(0,size)]"
   ]
  },
  {
   "cell_type": "code",
   "execution_count": 42,
   "metadata": {},
   "outputs": [
    {
     "name": "stdout",
     "output_type": "stream",
     "text": [
      "Time taken in seconds 10.715726852416992\n"
     ]
    }
   ],
   "source": [
    "create_big_list_faster(100000000)"
   ]
  },
  {
   "cell_type": "markdown",
   "metadata": {},
   "source": [
    "Lists creation with 100Million elements took 21.7s with out list comprehensions & 13.4 with list comprehensions. This approach could save a lot more time when we write actually computationally intensive programms in python like while dealing with biomdedicne or bioinformatics related computations on DNa/RNA data (Genomic Sequenceing etc)."
   ]
  },
  {
   "cell_type": "markdown",
   "metadata": {},
   "source": [
    "Where and why decorators?\n",
    "- Decorator enhances the functionality of existing funcitons.\n",
    "- Arguments can also be used to decorators. \n",
    "- We can use them for time analysis as well."
   ]
  },
  {
   "cell_type": "markdown",
   "metadata": {},
   "source": [
    "# 2. Parallel Programming in Python"
   ]
  },
  {
   "cell_type": "markdown",
   "metadata": {},
   "source": [
    "### 2.a Threading module"
   ]
  },
  {
   "cell_type": "markdown",
   "metadata": {},
   "source": [
    "##### What are threads?\n",
    "- Is a part of a process executing in memory.\n",
    "- There can be multiple threads within the same process.\n",
    "- Multiple threads within the same memory can share data."
   ]
  },
  {
   "cell_type": "markdown",
   "metadata": {},
   "source": [
    "Python threading module:\n",
    " - Threading module in python allows us to control the threads in Python.\n",
    " - It contains functions like for performing operations like spawning threads, synchronizing threads and so on."
   ]
  },
  {
   "cell_type": "code",
   "execution_count": 43,
   "metadata": {},
   "outputs": [],
   "source": [
    "from threading import Thread\n",
    "\n",
    "def simple_func(length):\n",
    "    sum_f1 = 0\n",
    "    for x in range(0,length):\n",
    "        sum_f1 += x \n",
    "    print(\"Normal sum of is {}\".format(sum_f1))\n",
    "    \n",
    "def simple_sqrt(length):\n",
    "    sum_f2 = 0\n",
    "    for x in range(0,length):\n",
    "        sum_f2 += x*x \n",
    "    print(\"Square sum of is {}\".format(sum_f2))\n",
    "    \n",
    "def simple_cubic(length):\n",
    "    sum_f3 = 0\n",
    "    for x in range(0,length):\n",
    "        sum_f3 += x*x*x \n",
    "    print(\"Cubic sum of is {}\".format(sum_f3))\n",
    "    \n",
    "def do_threading(length = 1000000):\n",
    "    thread_simple = Thread(target=simple_func, args=(length,))\n",
    "    thread_sqrt = Thread(target=simple_sqrt, args=(length,))\n",
    "    thread_cubic = Thread(target=simple_cubic, args=(length,))\n",
    "    \n",
    "    # Start your threads\n",
    "    thread_simple.start()\n",
    "    thread_sqrt.start()\n",
    "    thread_cubic.start()\n",
    "    \n",
    "    # wait for the threads to finish\n",
    "    thread_simple.join()\n",
    "    thread_sqrt.join()\n",
    "    thread_cubic.join()\n",
    "def without_threading(length = 1000000):\n",
    "    simple_func(length)\n",
    "    simple_sqrt(length)\n",
    "    simple_cubic(length)"
   ]
  },
  {
   "cell_type": "code",
   "execution_count": 44,
   "metadata": {},
   "outputs": [
    {
     "name": "stdout",
     "output_type": "stream",
     "text": [
      "Normal sum of is 499999500000\n",
      "Square sum of is 333332833333500000\n",
      "Cubic sum of is 249999500000250000000000\n",
      "CPU times: user 524 ms, sys: 9.99 ms, total: 534 ms\n",
      "Wall time: 527 ms\n"
     ]
    }
   ],
   "source": [
    "%%time\n",
    "do_threading()"
   ]
  },
  {
   "cell_type": "code",
   "execution_count": 45,
   "metadata": {},
   "outputs": [
    {
     "name": "stdout",
     "output_type": "stream",
     "text": [
      "Normal sum of is 499999500000\n",
      "Square sum of is 333332833333500000\n",
      "Cubic sum of is 249999500000250000000000\n",
      "CPU times: user 535 ms, sys: 7.18 ms, total: 542 ms\n",
      "Wall time: 542 ms\n"
     ]
    }
   ],
   "source": [
    "%%time\n",
    "without_threading()"
   ]
  },
  {
   "cell_type": "markdown",
   "metadata": {},
   "source": [
    "Threading is found to be slower in Python which is usually assumed to be caused due to GIL.\n",
    "- A thread can be considered as a light weight process.\n",
    "- Multiple threads can exist within the same process.\n",
    "- Threading module allows us to control and manage threads in Python."
   ]
  },
  {
   "cell_type": "markdown",
   "metadata": {},
   "source": [
    "### 2.b  Threads with Locks"
   ]
  },
  {
   "cell_type": "markdown",
   "metadata": {},
   "source": [
    "What is the need for Locks?\n",
    "Sometimes multiple threads can try to access the same of piece of the data at the same time.\n",
    "Race condition leads to inconsistent information. Inorder to avoid this we introduce Locks.\n",
    "\n",
    "#### Using locks within threads\n",
    "The threading module in Python contain locks for implementinng Synchronization mechanism.\n",
    "\n",
    "It contains the following methods.\n",
    " - acquire  : This essentially locks the lock.\n",
    " - release : releases the lock."
   ]
  },
  {
   "cell_type": "code",
   "execution_count": 46,
   "metadata": {},
   "outputs": [
    {
     "name": "stdout",
     "output_type": "stream",
     "text": [
      "Final string is YOLO Lmn\n"
     ]
    }
   ],
   "source": [
    "from threading import Thread,Lock\n",
    "# define lock\n",
    "thread_lock = Lock()\n",
    "\n",
    "my_global_string = \"Lmn\"\n",
    "global_check = True\n",
    "def add_prefix(prefix_to_add):\n",
    "    global my_global_string,global_check\n",
    "    # Acquire the lock over the data shared between threads.\n",
    "    thread_lock.acquire()\n",
    "    global_check = False\n",
    "\n",
    "    my_global_string = prefix_to_add + \" \" + my_global_string\n",
    "    \n",
    "    thread_lock.release()\n",
    "\n",
    "def add_suffix(suffix_to_add):\n",
    "    global my_global_string,global_check\n",
    "    # Acquire the lock over the data shared between threads.\n",
    "    thread_lock.acquire()\n",
    "    #global_check = False\n",
    "    if global_check:\n",
    "        my_global_string =  my_global_string + \" \" + suffix_to_add\n",
    "    \n",
    "    thread_lock.release()\n",
    "    \n",
    "    \n",
    "def do_threading():\n",
    "    thread_prefix = Thread(target=add_prefix, args=(\"YOLO\",))\n",
    "    thread_suffix = Thread(target=add_suffix, args=(\",Bye!!\",))\n",
    "   \n",
    "    \n",
    "    # Start your threads\n",
    "    thread_prefix.start()\n",
    "    thread_suffix.start()\n",
    "    \n",
    "    # wait for the threads to finish\n",
    "    thread_prefix.join()\n",
    "    thread_suffix.join()\n",
    "    \n",
    "    global my_global_string\n",
    "    print(\"Final string is {}\".format(my_global_string))\n",
    "\n",
    "do_threading()"
   ]
  },
  {
   "cell_type": "markdown",
   "metadata": {},
   "source": [
    "###### Why Rlocks?\n",
    "\n",
    "- Problem with conventional locks is that we don't know which thread is holding the lock. So incase thread X is holding the lock and if X tries to acquire the lock,it gets blocked even though X is only holding the lock.\n",
    "\n",
    "This can be overcome using Re-entrant locks or Rlock."
   ]
  },
  {
   "cell_type": "code",
   "execution_count": 47,
   "metadata": {},
   "outputs": [
    {
     "data": {
      "text/plain": [
       "'2hello'"
      ]
     },
     "execution_count": 47,
     "metadata": {},
     "output_type": "execute_result"
    }
   ],
   "source": [
    "from threading import RLock,Lock\n",
    "my_lock = RLock()\n",
    "# my_lock = Lock()\n",
    "# if you try it with lock it gets blocked and wont finish executing.\n",
    "my_lock.acquire()\n",
    "my_global = 'hello'\n",
    "\n",
    "my_lock.acquire()\n",
    "my_global = '2'+ 'hello'\n",
    "\n",
    "my_global"
   ]
  },
  {
   "cell_type": "markdown",
   "metadata": {},
   "source": [
    "Use case of Rlocks - recursion using threads\n",
    "Summary:\n",
    "- Locks are used for threaded synchronization.\n",
    "- Without locks there can be inconsisted data with multiple threads trying to access at the same time."
   ]
  },
  {
   "cell_type": "markdown",
   "metadata": {},
   "source": [
    "### 2.c Global Interpreter Lock (GIL)"
   ]
  },
  {
   "cell_type": "markdown",
   "metadata": {},
   "source": [
    "* Threads are managed by OS. Can be either POSIX threads or windows threads.\n",
    "* GIL ensures that only one thread is run in an interpreter once, \n",
    "* This hampers the threading purpose indirectly limiting the parallelism.\n",
    "* This is done to simplify memory management between threads."
   ]
  },
  {
   "cell_type": "markdown",
   "metadata": {},
   "source": [
    "### 2.d MultiProcessing"
   ]
  },
  {
   "cell_type": "markdown",
   "metadata": {},
   "source": [
    "1. In multi processing we spawn multiple process to execute in parallel\n",
    "2. Similar to threads but multiple processes are created instead of threads\n",
    "3. Multiprocessing in Python, does not suffer from GIL limitation suffered by multi threading.\n",
    "4. Each prrocess has its own memory space as opposed to of threads which uses shared memory."
   ]
  },
  {
   "cell_type": "code",
   "execution_count": 48,
   "metadata": {},
   "outputs": [],
   "source": [
    "from multiprocessing import Process"
   ]
  },
  {
   "cell_type": "code",
   "execution_count": 55,
   "metadata": {},
   "outputs": [],
   "source": [
    "def simple_func(length):\n",
    "    sum_f1 = 0\n",
    "    for x in range(0,length):\n",
    "        sum_f1 += x \n",
    "    print(\"Normal sum of is {}\".format(sum_f1))\n",
    "    \n",
    "def simple_sqrt(length):\n",
    "    sum_f2 = 0\n",
    "    for x in range(0,length):\n",
    "        sum_f2 += x*x \n",
    "    print(\"Square sum of is {}\".format(sum_f2))\n",
    "    \n",
    "def simple_cubic(length):\n",
    "    sum_f3 = 0\n",
    "    for x in range(0,length):\n",
    "        sum_f3 += x*x*x \n",
    "    print(\"Cubic sum of is {}\".format(sum_f3))\n",
    "    \n",
    "def do_multi_processing():\n",
    "    length = 5\n",
    "    process_simple = Process(target = simple_func,args = (length,))\n",
    "    process_square = Process(target = simple_sqrt,args = (length,))\n",
    "    process_cubic = Process(target = simple_cubic,args = (length,))\n",
    "    \n",
    "        \n",
    "    # Start your process\n",
    "    process_simple.start()\n",
    "    process_square.start()\n",
    "    process_cubic.start()\n",
    "    \n",
    "    # wait for the processes to finish\n",
    "    process_simple.join()\n",
    "    process_square.join()\n",
    "    process_cubic.join()\n",
    "    \n",
    "    \n",
    "def nornal_sequentiial_fn():\n",
    "    length = 5\n",
    "    simple_func(length)\n",
    "    simple_sqrt(length)\n",
    "    simple_cubic(length)"
   ]
  },
  {
   "cell_type": "code",
   "execution_count": 56,
   "metadata": {},
   "outputs": [
    {
     "name": "stdout",
     "output_type": "stream",
     "text": [
      "Normal sum of is 10\n",
      "Square sum of is 30\n",
      "Cubic sum of is 100\n",
      "CPU times: user 11.5 ms, sys: 22.4 ms, total: 33.9 ms\n",
      "Wall time: 34.5 ms\n"
     ]
    }
   ],
   "source": [
    "%%time\n",
    "do_multi_processing()"
   ]
  },
  {
   "cell_type": "code",
   "execution_count": 57,
   "metadata": {},
   "outputs": [
    {
     "name": "stdout",
     "output_type": "stream",
     "text": [
      "Normal sum of is 10\n",
      "Square sum of is 30\n",
      "Cubic sum of is 100\n",
      "CPU times: user 436 µs, sys: 316 µs, total: 752 µs\n",
      "Wall time: 520 µs\n"
     ]
    }
   ],
   "source": [
    "%%time\n",
    "nornal_sequentiial_fn()"
   ]
  },
  {
   "cell_type": "code",
   "execution_count": null,
   "metadata": {},
   "outputs": [],
   "source": []
  }
 ],
 "metadata": {
  "kernelspec": {
   "display_name": "Python 3",
   "language": "python",
   "name": "python3"
  },
  "language_info": {
   "codemirror_mode": {
    "name": "ipython",
    "version": 3
   },
   "file_extension": ".py",
   "mimetype": "text/x-python",
   "name": "python",
   "nbconvert_exporter": "python",
   "pygments_lexer": "ipython3",
   "version": "3.7.3"
  }
 },
 "nbformat": 4,
 "nbformat_minor": 2
}
